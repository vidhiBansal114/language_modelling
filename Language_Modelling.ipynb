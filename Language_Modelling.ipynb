{
 "cells": [
  {
   "cell_type": "code",
   "execution_count": 1,
   "metadata": {},
   "outputs": [
    {
     "name": "stderr",
     "output_type": "stream",
     "text": [
      "[nltk_data] Downloading package punkt to C:\\Users\\neeraj\n",
      "[nltk_data]     bansal\\AppData\\Roaming\\nltk_data...\n",
      "[nltk_data]   Package punkt is already up-to-date!\n"
     ]
    }
   ],
   "source": [
    "import nltk\n",
    "nltk.download('punkt')\n",
    "from nltk import word_tokenize\n",
    "from nltk.util import ngrams\n",
    "from collections import Counter\n",
    "import pandas as pd\n",
    "data = pd.read_csv(r'C:\\Users\\neeraj bansal\\Downloads\\movie_review.csv')\n",
    "#data.drop(['fold_id', 'cv_tag','html_id','sent_id','tag'], axis=1,inplace=True)\n",
    "import pandas as pd\n",
    "import numpy as np\n",
    "import math\n",
    "import re\n",
    "import glob\n",
    "import random\n",
    "import string\n",
    "#data preprocessing\n",
    "data['sentence_clean']=data['text'].str.replace('[{}]'.format(string.punctuation),'')\n",
    "data['sentence_clean']=data['sentence_clean'].str.lower()\n",
    "#dropping the non-required columns\n",
    "data.drop(['fold_id', 'cv_tag','html_id','sent_id','tag','text'], axis=1,inplace=True)"
   ]
  },
  {
   "cell_type": "markdown",
   "metadata": {},
   "source": [
    "# UNIGRAM"
   ]
  },
  {
   "cell_type": "code",
   "execution_count": 2,
   "metadata": {},
   "outputs": [
    {
     "name": "stdout",
     "output_type": "stream",
     "text": [
      "<Vocabulary with cutoff=1 unk_label='<UNK>' and 47564 items>\n",
      "Count of filthy is  5\n",
      "Probability of filthy is  0.00010512152047767219\n"
     ]
    }
   ],
   "source": [
    "#Converting the entire dataset into a single string for the unigram model\n",
    "text=''\n",
    "for i in data['sentence_clean']:\n",
    "    text=text+i\n",
    "#print(text)\n",
    "\n",
    "\n",
    "from nltk.util import pad_sequence\n",
    "from nltk.util import bigrams\n",
    "from nltk.util import ngrams\n",
    "from nltk.util import everygrams\n",
    "from nltk.lm.preprocessing import pad_both_ends\n",
    "from nltk.lm.preprocessing import flatten\n",
    "from nltk import word_tokenize, sent_tokenize \n",
    "# Tokenize the text.\n",
    "from nltk.lm.preprocessing import padded_everygram_pipeline\n",
    "train, vocab = padded_everygram_pipeline(2, text)\n",
    "tokenized_text = [list(map(str.lower, word_tokenize(sent))) \n",
    "                  for sent in sent_tokenize(text)]\n",
    "#Declaring n=1 for unigram model\n",
    "n=1\n",
    "corpus = list(data['sentence_clean'].apply(word_tokenize))\n",
    "#Training the data\n",
    "train_data, padded_sents = padded_everygram_pipeline(n, corpus)\n",
    "from nltk.lm import MLE\n",
    "model = MLE(n)\n",
    "model.fit(train_data, padded_sents)\n",
    "\n",
    "print(model.vocab)\n",
    "print(\"Count of filthy is \",model.counts['filthy'])\n",
    "print(\"Probability of filthy is \",model.counts['filthy']/47564)\n"
   ]
  },
  {
   "cell_type": "markdown",
   "metadata": {},
   "source": [
    "# BIGRAM"
   ]
  },
  {
   "cell_type": "code",
   "execution_count": 3,
   "metadata": {},
   "outputs": [
    {
     "data": {
      "text/plain": [
       "defaultdict(<function __main__.<lambda>.<locals>.<lambda>()>,\n",
       "            {'as': 0.025423728813559324,\n",
       "             'tommys': 0.00847457627118644,\n",
       "             'in': 0.059322033898305086,\n",
       "             'by': 0.0423728813559322,\n",
       "             None: 0.16101694915254236,\n",
       "             'from': 0.2796610169491525,\n",
       "             'during': 0.00847457627118644,\n",
       "             'with': 0.01694915254237288,\n",
       "             'casts': 0.00847457627118644,\n",
       "             'isnt': 0.01694915254237288,\n",
       "             'and': 0.0423728813559322,\n",
       "             'he': 0.00847457627118644,\n",
       "             'that': 0.01694915254237288,\n",
       "             'when': 0.00847457627118644,\n",
       "             '198788': 0.00847457627118644,\n",
       "             'although': 0.00847457627118644,\n",
       "             'the': 0.01694915254237288,\n",
       "             'revealing': 0.00847457627118644,\n",
       "             'into': 0.00847457627118644,\n",
       "             'so': 0.00847457627118644,\n",
       "             'though': 0.00847457627118644,\n",
       "             'are': 0.00847457627118644,\n",
       "             'johns': 0.00847457627118644,\n",
       "             'because': 0.00847457627118644,\n",
       "             'throughouterase': 0.01694915254237288,\n",
       "             'becoming': 0.00847457627118644,\n",
       "             'wearing': 0.00847457627118644,\n",
       "             'around': 0.00847457627118644,\n",
       "             'but': 0.025423728813559324,\n",
       "             'within': 0.01694915254237288,\n",
       "             'almost': 0.00847457627118644,\n",
       "             'steal': 0.00847457627118644,\n",
       "             'like': 0.00847457627118644,\n",
       "             'again': 0.00847457627118644,\n",
       "             'for': 0.025423728813559324,\n",
       "             'three': 0.00847457627118644,\n",
       "             'on': 0.00847457627118644,\n",
       "             'it': 0.00847457627118644,\n",
       "             'about': 0.00847457627118644,\n",
       "             'at': 0.00847457627118644,\n",
       "             'a': 0.00847457627118644,\n",
       "             'before': 0.00847457627118644})"
      ]
     },
     "execution_count": 3,
     "metadata": {},
     "output_type": "execute_result"
    }
   ],
   "source": [
    "from nltk.corpus import reuters\n",
    "from nltk import bigrams, trigrams\n",
    "from collections import Counter, defaultdict\n",
    "\n",
    "# Create a dictionary model\n",
    "model = defaultdict(lambda: defaultdict(lambda: 0))\n",
    "\n",
    "#Counting frequency of co-occurence\n",
    "for sentence in data['sentence_clean']:\n",
    "    for w1, w2 in bigrams(sentence.split(), pad_right=True, pad_left=True):\n",
    "        model[w1][w2] += 1\n",
    " \n",
    "#Converting Frequency into probabilities\n",
    "for w1 in model:\n",
    "    total_count = float(sum(model[w1].values()))\n",
    "    for w2 in model[w1]:\n",
    "        model[w1][w2] /= total_count\n",
    "model['apart']"
   ]
  },
  {
   "cell_type": "markdown",
   "metadata": {},
   "source": [
    "# TRIGRAM"
   ]
  },
  {
   "cell_type": "code",
   "execution_count": 4,
   "metadata": {},
   "outputs": [
    {
     "data": {
      "text/plain": [
       "{'the': 0.3333333333333333,\n",
       " 'she': 0.3333333333333333,\n",
       " 'he': 0.3333333333333333}"
      ]
     },
     "execution_count": 4,
     "metadata": {},
     "output_type": "execute_result"
    }
   ],
   "source": [
    "from nltk.corpus import reuters\n",
    "from nltk import bigrams, trigrams\n",
    "from collections import Counter, defaultdict\n",
    "\n",
    "# Create a dictionary model\n",
    "model = defaultdict(lambda: defaultdict(lambda: 0))\n",
    "\n",
    "#Counting frequency of co-occurence\n",
    "for sentence in data['sentence_clean']:\n",
    "    for w1, w2, w3 in trigrams(sentence.split(), pad_right=True, pad_left=True):\n",
    "        model[(w1, w2)][w3] += 1\n",
    " \n",
    "#Converting Frequency into probabilities\n",
    "for w1_w2 in model:\n",
    "    total_count = float(sum(model[w1_w2].values()))\n",
    "    for w3 in model[w1_w2]:\n",
    "        model[w1_w2][w3] /= total_count\n",
    "dict(model['apart','as'])        \n",
    "        "
   ]
  }
 ],
 "metadata": {
  "kernelspec": {
   "display_name": "Python 3",
   "language": "python",
   "name": "python3"
  },
  "language_info": {
   "codemirror_mode": {
    "name": "ipython",
    "version": 3
   },
   "file_extension": ".py",
   "mimetype": "text/x-python",
   "name": "python",
   "nbconvert_exporter": "python",
   "pygments_lexer": "ipython3",
   "version": "3.7.1"
  }
 },
 "nbformat": 4,
 "nbformat_minor": 4
}
